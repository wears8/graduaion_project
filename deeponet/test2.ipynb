{
 "cells": [
  {
   "cell_type": "markdown",
   "metadata": {},
   "source": [
    "### 使用DEEPONET训练\n",
    "基于物理信息的求解方法\n",
    "$$ \n",
    "\\frac{\\partial s}{\\partial t} = D \\frac{\\partial^2 s}{\\partial x^2} + k s^2 + u(x)\n",
    "$$\n",
    "\n",
    "1.随机取样U(X)函数，输入枝干\n",
    "\n",
    "2.选取观察点，输入主干网络\n",
    "\n",
    "3.利用pytorch的自动微分计算二阶导数，一阶导数，从而计算方程形式上的残差。"
   ]
  },
  {
   "cell_type": "code",
   "execution_count": 1,
   "metadata": {},
   "outputs": [],
   "source": [
    "import torch\n",
    "import torch.nn as nn\n",
    "import torch.autograd as autograd\n",
    "\n",
    "class BranchNet(nn.Module):\n",
    "    def __init__(self, input_dim=10):  # 默认输入维度为10\n",
    "        super(BranchNet, self).__init__()\n",
    "        self.fc = nn.Sequential(\n",
    "            nn.Linear(input_dim, 50),  # 输入维度是 num_samples\n",
    "            nn.ReLU(),\n",
    "            nn.Linear(50, 100),\n",
    "            nn.ReLU(),\n",
    "            nn.Linear(100, 50),  # 输出特征维度\n",
    "        )\n",
    "    def forward(self, u):\n",
    "        return self.fc(u)\n",
    "\n",
    "class TrunkNet(nn.Module):\n",
    "    def __init__(self, input_dim=2):  # 默认输入维度为2\n",
    "        super(TrunkNet, self).__init__()\n",
    "        self.fc = nn.Sequential(\n",
    "            nn.Linear(input_dim, 50),  # 输入维度是 2 (x, t)\n",
    "            nn.ReLU(),\n",
    "            nn.Linear(50, 100),\n",
    "            nn.ReLU(),\n",
    "            nn.Linear(100, 50),  # 输出特征维度\n",
    "        )\n",
    "    def forward(self, coords):\n",
    "        # coords 的形状是 [batch_size, num_coords, 2]\n",
    "        return self.fc(coords)\n",
    "class DeepONet(nn.Module):\n",
    "    def __init__(self, branch_input_dim=10, trunk_input_dim=2):\n",
    "        super(DeepONet, self).__init__()\n",
    "        self.branch = BranchNet(input_dim=branch_input_dim)\n",
    "        self.trunk = TrunkNet(input_dim=trunk_input_dim)\n",
    "    \n",
    "    def forward(self, u, coords):\n",
    "        # BranchNet 的输出 [batch_size, 50]\n",
    "        branch_out = self.branch(u)\n",
    "        # TrunkNet 的输出 [batch_size, num_coords, 50]\n",
    "        trunk_out = self.trunk(coords)\n",
    "        # 将 branch_out 添加一个维度 [batch_size, 1, 50]\n",
    "        branch_out = branch_out.unsqueeze(1)\n",
    "        # 点积合并\n",
    "        return torch.sum(branch_out * trunk_out, dim=-1)  # 输出形状 [batch_size, num_coords]\n"
   ]
  },
  {
   "cell_type": "code",
   "execution_count": 2,
   "metadata": {},
   "outputs": [
    {
     "name": "stdout",
     "output_type": "stream",
     "text": [
      "torch.Size([32, 50])\n"
     ]
    }
   ],
   "source": [
    "# 初始化网络\n",
    "model = DeepONet(branch_input_dim=10, trunk_input_dim=2)\n",
    "\n",
    "# 随机生成输入数据\n",
    "u_samples = torch.rand(32, 10)  # [batch_size, num_samples]\n",
    "coords = torch.rand(32, 50, 2)  # [batch_size, num_coords, 2]\n",
    "\n",
    "# 前向传播\n",
    "output = model(u_samples, coords)\n",
    "print(output.shape)  # 预期输出形状为 [32, 50]\n"
   ]
  },
  {
   "cell_type": "code",
   "execution_count": 3,
   "metadata": {},
   "outputs": [],
   "source": [
    "def physics_loss(model, u_samples, coords, D, k):\n",
    "    \"\"\"\n",
    "    model: DeepONet 模型\n",
    "    u_samples: 输入函数 u(x) 的采样值 [batch_size, num_samples]\n",
    "    coords: 空间和时间坐标 [batch_size, num_coords, 2] (x, t)\n",
    "    D: 扩散系数\n",
    "    k: 反应速率\n",
    "    \"\"\"\n",
    "    # Ensure tensors require gradients\n",
    "    coords.requires_grad = True\n",
    "    u_samples.requires_grad = True\n",
    "\n",
    "    # Predict the solution s(x, t)\n",
    "    s_pred = model(u_samples, coords)  # [batch_size, num_coords]\n",
    "\n",
    "    # Compute ∂s/∂t\n",
    "    ds_dt = autograd.grad(\n",
    "        outputs=s_pred, inputs=coords, grad_outputs=torch.ones_like(s_pred),\n",
    "        create_graph=True, retain_graph=True\n",
    "    )[0][..., 1]  # Extract gradient w.r.t. time\n",
    "\n",
    "    # Compute ∂^2s/∂x^2\n",
    "    ds_dx = autograd.grad(\n",
    "        outputs=s_pred, inputs=coords, grad_outputs=torch.ones_like(s_pred),\n",
    "        create_graph=True, retain_graph=True\n",
    "    )[0][..., 0]  # Extract gradient w.r.t. space\n",
    "\n",
    "    d2s_dx2 = autograd.grad(\n",
    "        outputs=ds_dx, inputs=coords, grad_outputs=torch.ones_like(ds_dx),\n",
    "        create_graph=True, retain_graph=True\n",
    "    )[0][..., 0]  # Second derivative w.r.t. space\n",
    "\n",
    "    # Compute residual: ∂s/∂t - D * ∂^2s/∂x^2 - k * s^2 - u(x)\n",
    "    residual = ds_dt - D * d2s_dx2 - k * s_pred**2 - u_samples.mean(dim=-1).unsqueeze(1)\n",
    "\n",
    "    # Loss is the mean of squared residuals\n",
    "    return torch.mean(residual**2)\n"
   ]
  },
  {
   "cell_type": "code",
   "execution_count": 4,
   "metadata": {},
   "outputs": [
    {
     "name": "stdout",
     "output_type": "stream",
     "text": [
      "Physics-informed loss: 0.24676446616649628\n"
     ]
    }
   ],
   "source": [
    "# Parameters\n",
    "D = 0.01  # Diffusion coefficient\n",
    "k = 0.01  # Reaction rate\n",
    "batch_size = 32\n",
    "num_samples = 10\n",
    "num_coords = 50\n",
    "\n",
    "# Generate random inputs\n",
    "u_samples = torch.rand(batch_size, num_samples)  # Input samples\n",
    "coords = torch.rand(batch_size, num_coords, 2)  # Spatial and temporal coordinates\n",
    "\n",
    "# Ensure requires_grad is enabled\n",
    "coords.requires_grad = True\n",
    "u_samples.requires_grad = True\n",
    "\n",
    "# Define model\n",
    "model = DeepONet()\n",
    "\n",
    "# Compute physics loss\n",
    "loss = physics_loss(model, u_samples, coords, D, k)\n",
    "\n",
    "print(\"Physics-informed loss:\", loss.item())\n"
   ]
  },
  {
   "cell_type": "code",
   "execution_count": 5,
   "metadata": {},
   "outputs": [
    {
     "name": "stdout",
     "output_type": "stream",
     "text": [
      "Epoch 0, Loss: 0.24676446616649628\n",
      "Epoch 100, Loss: 0.0004936123150400817\n",
      "Epoch 200, Loss: 0.00022589806758332998\n",
      "Epoch 300, Loss: 0.00011837792408186942\n",
      "Epoch 400, Loss: 4.742137753055431e-05\n",
      "Epoch 500, Loss: 2.6898076612269506e-05\n",
      "Epoch 600, Loss: 1.699847780400887e-05\n",
      "Epoch 700, Loss: 1.2978903214388993e-05\n",
      "Epoch 800, Loss: 1.5198611436062492e-05\n",
      "Epoch 900, Loss: 8.042125045903958e-06\n"
     ]
    }
   ],
   "source": [
    "optimizer = torch.optim.Adam(model.parameters(), lr=1e-3)\n",
    "\n",
    "for epoch in range(1000):\n",
    "    optimizer.zero_grad()\n",
    "    loss = physics_loss(model, u_samples, coords, D, k)\n",
    "    loss.backward()\n",
    "    optimizer.step()\n",
    "\n",
    "    if epoch % 100 == 0:\n",
    "        print(f\"Epoch {epoch}, Loss: {loss.item()}\")\n"
   ]
  },
  {
   "cell_type": "code",
   "execution_count": null,
   "metadata": {},
   "outputs": [],
   "source": []
  }
 ],
 "metadata": {
  "kernelspec": {
   "display_name": "base",
   "language": "python",
   "name": "python3"
  },
  "language_info": {
   "codemirror_mode": {
    "name": "ipython",
    "version": 3
   },
   "file_extension": ".py",
   "mimetype": "text/x-python",
   "name": "python",
   "nbconvert_exporter": "python",
   "pygments_lexer": "ipython3",
   "version": "3.12.3"
  }
 },
 "nbformat": 4,
 "nbformat_minor": 2
}
